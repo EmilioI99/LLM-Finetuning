{
 "cells": [
  {
   "cell_type": "markdown",
   "metadata": {},
   "source": [
    "## Notebook Login "
   ]
  },
  {
   "cell_type": "code",
   "execution_count": 1,
   "metadata": {},
   "outputs": [
    {
     "name": "stderr",
     "output_type": "stream",
     "text": [
      "/home/azureuser/emilio/lib/python3.10/site-packages/tqdm/auto.py:21: TqdmWarning: IProgress not found. Please update jupyter and ipywidgets. See https://ipywidgets.readthedocs.io/en/stable/user_install.html\n",
      "  from .autonotebook import tqdm as notebook_tqdm\n"
     ]
    }
   ],
   "source": [
    "from huggingface_hub import login\n",
    "\n",
    "# Replace with your Hugging Face token\n",
    "#hf_token = \"\"\n",
    "login(token=hf_token)"
   ]
  },
  {
   "cell_type": "markdown",
   "metadata": {},
   "source": [
    "## Inference on pretrained model "
   ]
  },
  {
   "cell_type": "code",
   "execution_count": 12,
   "metadata": {},
   "outputs": [
    {
     "name": "stderr",
     "output_type": "stream",
     "text": [
      "Loading checkpoint shards:   0%|          | 0/2 [00:00<?, ?it/s]"
     ]
    },
    {
     "name": "stderr",
     "output_type": "stream",
     "text": [
      "Loading checkpoint shards: 100%|██████████| 2/2 [00:00<00:00,  2.79it/s]\n"
     ]
    }
   ],
   "source": [
    "from transformers import AutoTokenizer, AutoModelForCausalLM, BitsAndBytesConfig\n",
    "import torch\n",
    "\n",
    "model_name = \"google/gemma-2b\"\n",
    "# model_name = \"meta-llama/Llama-2-7b-hf\"\n",
    "\n",
    "model = AutoModelForCausalLM.from_pretrained(model_name,\n",
    "                                            #  torch_dtype=torch.float16\n",
    "                                             )\n",
    "tokenizer = AutoTokenizer.from_pretrained(model_name,\n",
    "                                          # torch_dtype=torch.float16\n",
    "                                          )"
   ]
  },
  {
   "cell_type": "code",
   "execution_count": null,
   "metadata": {},
   "outputs": [
    {
     "name": "stdout",
     "output_type": "stream",
     "text": [
      "<bos>Cual es la capital de Ecuador?\n",
      "\n",
      "¿Cuál es la capital de México?\n",
      "\n",
      "¿Cuál es la capital de Perú?\n",
      "\n",
      "¿Cuál es la capital de Colombia?\n",
      "\n",
      "¿Cuál es la capital de Argentina?\n",
      "\n",
      "¿Cuál es la capital de Chile?\n",
      "\n",
      "¿Cuál es la capital de Bolivia?\n",
      "\n",
      "¿Cuál es la capital de Venezuela?\n",
      "\n",
      "¿Cuál es la capital de Panamá?\n",
      "\n",
      "¿Cuál es la capital de Nicaragua?\n",
      "\n",
      "¿Cuál es la capital de Honduras?\n",
      "\n",
      "¿Cuál es la capital de El Salvador?\n",
      "\n",
      "¿Cuál es la capital de Guatemala?\n",
      "\n",
      "¿Cuál es la capital de Paraguay?\n",
      "\n",
      "¿\n"
     ]
    }
   ],
   "source": [
    "input_text = \"\"\n",
    "\n",
    "input_ids = tokenizer(input_text, return_tensors=\"pt\")\n",
    "outputs = model.generate(**input_ids, max_length=128)\n",
    "print(tokenizer.decode(outputs[0]))"
   ]
  },
  {
   "cell_type": "markdown",
   "metadata": {},
   "source": [
    "## PEFT"
   ]
  },
  {
   "cell_type": "markdown",
   "metadata": {},
   "source": [
    "### Imports"
   ]
  },
  {
   "cell_type": "code",
   "execution_count": 13,
   "metadata": {},
   "outputs": [],
   "source": [
    "import torch\n",
    "from transformers import (\n",
    "    AutoModelForCausalLM,\n",
    "    AutoTokenizer,\n",
    "    BitsAndBytesConfig,\n",
    "    HfArgumentParser,\n",
    "    TrainingArguments,\n",
    "    logging,\n",
    ")\n",
    "from peft import LoraConfig, PeftModel\n",
    "from trl import SFTTrainer\n"
   ]
  },
  {
   "cell_type": "markdown",
   "metadata": {},
   "source": [
    "### Create Dataset"
   ]
  },
  {
   "cell_type": "code",
   "execution_count": 8,
   "metadata": {},
   "outputs": [],
   "source": [
    "from datasets import load_dataset\n",
    "\n",
    "dataset_name = \"databricks/databricks-dolly-15k\"\n",
    "dataset = load_dataset(dataset_name, split=\"train\")"
   ]
  },
  {
   "cell_type": "code",
   "execution_count": 9,
   "metadata": {},
   "outputs": [
    {
     "name": "stdout",
     "output_type": "stream",
     "text": [
      "defaultdict(<class 'int'>, {'closed_qa': 1773, 'classification': 2136, 'open_qa': 3742, 'information_extraction': 1506, 'brainstorming': 1766, 'general_qa': 2191, 'summarization': 1188, 'creative_writing': 709})\n"
     ]
    }
   ],
   "source": [
    "from collections import defaultdict\n",
    "\n",
    "categries_count = defaultdict(int)\n",
    "for __, data in enumerate(dataset):\n",
    "    categries_count[data['category']] += 1\n",
    "print(categries_count)"
   ]
  },
  {
   "cell_type": "code",
   "execution_count": 10,
   "metadata": {},
   "outputs": [
    {
     "name": "stdout",
     "output_type": "stream",
     "text": [
      "[{'text': 'Instruction:\\nWhich is a species of fish? Tope or Rope\\n\\nResponse:\\nTope'}, {'text': 'Instruction:\\nWhy can camels survive for long without water?\\n\\nResponse:\\nCamels use the fat in their humps to keep them filled with energy and hydration for long periods of time.'}]\n"
     ]
    }
   ],
   "source": [
    "# filter out those that do not have any context\n",
    "filtered_dataset = []\n",
    "for __, data in enumerate(dataset):\n",
    "    if data[\"context\"]:\n",
    "        continue\n",
    "    else:\n",
    "        text = f\"Instruction:\\n{data['instruction']}\\n\\nResponse:\\n{data['response']}\"\n",
    "        filtered_dataset.append({\"text\": text})\n",
    "\n",
    "print(filtered_dataset[0:2])"
   ]
  },
  {
   "cell_type": "code",
   "execution_count": 11,
   "metadata": {},
   "outputs": [],
   "source": [
    "# convert to json and save the filtered dataset as jsonl file\n",
    "import jsonlines as jl\n",
    "with jl.open('dolly-mini-train.jsonl', 'w') as writer:\n",
    "    writer.write_all(filtered_dataset[0:])"
   ]
  },
  {
   "cell_type": "code",
   "execution_count": 12,
   "metadata": {},
   "outputs": [
    {
     "data": {
      "text/plain": [
       "Dataset({\n",
       "    features: ['text'],\n",
       "    num_rows: 1000\n",
       "})"
      ]
     },
     "execution_count": 12,
     "metadata": {},
     "output_type": "execute_result"
    }
   ],
   "source": [
    "from datasets import load_dataset\n",
    "\n",
    "dataset_name = \"ai-bites/databricks-mini\"\n",
    "dataset = load_dataset(dataset_name, split=\"train[0:1000]\")\n",
    "dataset"
   ]
  },
  {
   "cell_type": "code",
   "execution_count": 6,
   "metadata": {},
   "outputs": [
    {
     "name": "stderr",
     "output_type": "stream",
     "text": [
      "Generating train split: 372 examples [00:00, 7404.31 examples/s]"
     ]
    },
    {
     "name": "stdout",
     "output_type": "stream",
     "text": [
      "{'text': 'Instruction:\\nEres un asistente virtual de cobranza, llamas de parte de SMARTIA por encargo del Banco Falabela para gestionar cobranza\\n\\nInput:\\nusuario: inicio_llamada\\n\\nResponse:\\nBuenas tardes, soy su agente virtual de falabela. ¿Hablo con María González?'}\n"
     ]
    },
    {
     "name": "stderr",
     "output_type": "stream",
     "text": [
      "\n"
     ]
    }
   ],
   "source": [
    "from datasets import Dataset\n",
    "\n",
    "# Ruta al archivo JSONL convertido\n",
    "dataset_path = \"converted_dataset.jsonl\"\n",
    "\n",
    "# Cargar el dataset desde el archivo JSONL\n",
    "dataset = Dataset.from_json(dataset_path)\n",
    "\n",
    "# Visualizar un ejemplo del dataset cargado\n",
    "print(dataset[0])  # Muestra el primer ejemplo"
   ]
  },
  {
   "cell_type": "code",
   "execution_count": 14,
   "metadata": {},
   "outputs": [
    {
     "data": {
      "text/plain": [
       "Dataset({\n",
       "    features: ['text'],\n",
       "    num_rows: 372\n",
       "})"
      ]
     },
     "execution_count": 14,
     "metadata": {},
     "output_type": "execute_result"
    }
   ],
   "source": [
    "dataset"
   ]
  },
  {
   "cell_type": "markdown",
   "metadata": {},
   "source": [
    "### Define parameters "
   ]
  },
  {
   "cell_type": "code",
   "execution_count": 15,
   "metadata": {},
   "outputs": [],
   "source": [
    "# define some variables - model names\n",
    "model_name = \"google/gemma-2b\"\n",
    "new_model = \"gemma-ft-10epochs\"\n",
    "\n",
    "################################################################################\n",
    "# LoRA parameters\n",
    "################################################################################\n",
    "# LoRA attention dimension\n",
    "# lora_r = 64\n",
    "lora_r = 16\n",
    "# Alpha parameter for LoRA scaling\n",
    "lora_alpha = 32\n",
    "# Dropout probability for LoRA layers\n",
    "lora_dropout = 0.1\n",
    "\n",
    "################################################################################\n",
    "# bitsandbytes parameters\n",
    "################################################################################\n",
    "# Activate 4-bit precision base model loading\n",
    "use_4bit = False\n",
    "# Compute dtype for 4-bit base models\n",
    "bnb_4bit_compute_dtype = \"float16\"\n",
    "# Quantization type (fp4 or nf4)\n",
    "bnb_4bit_quant_type = None\n",
    "# Activate nested quantization for 4-bit base models (double quantization)\n",
    "use_nested_quant = False\n",
    "\n",
    "################################################################################\n",
    "# TrainingArguments parameters\n",
    "################################################################################\n",
    "# Output directory where the model predictions and checkpoints will be stored\n",
    "output_dir = \"./results\"\n",
    "# Number of training epochs\n",
    "num_train_epochs = 1\n",
    "# Enable fp16/bf16 training (set bf16 to True with an A100)\n",
    "fp16 = True\n",
    "bf16 = False\n",
    "# Batch size per GPU for training\n",
    "per_device_train_batch_size = 8\n",
    "# Batch size per GPU for evaluation\n",
    "per_device_eval_batch_size = 8\n",
    "# Number of update steps to accumulate the gradients for\n",
    "gradient_accumulation_steps = 1\n",
    "# Enable gradient checkpointing\n",
    "gradient_checkpointing = True\n",
    "# Maximum gradient normal (gradient clipping)\n",
    "max_grad_norm = 0.3\n",
    "# Initial learning rate (AdamW optimizer)\n",
    "learning_rate = 2e-4\n",
    "# Weight decay to apply to all layers except bias/LayerNorm weights\n",
    "weight_decay = 0.001\n",
    "# Optimizer to use\n",
    "optim = \"paged_adamw_32bit\"\n",
    "# Learning rate schedule (constant a bit better than cosine)\n",
    "lr_scheduler_type = \"constant\"\n",
    "# Number of training steps (overrides num_train_epochs)\n",
    "max_steps = -1\n",
    "# Ratio of steps for a linear warmup (from 0 to learning rate)\n",
    "warmup_ratio = 0.03\n",
    "# Group sequences into batches with same length\n",
    "# Saves memory and speeds up training considerably\n",
    "group_by_length = True\n",
    "# Save checkpoint every X updates steps\n",
    "save_steps = 25\n",
    "# Log every X updates steps\n",
    "logging_steps = 25\n",
    "\n",
    "################################################################################\n",
    "# SFT parameters\n",
    "################################################################################\n",
    "# Maximum sequence length to use\n",
    "max_seq_length = 40 # None\n",
    "# Pack multiple short examples in the same input sequence to increase efficiency\n",
    "packing =  False\n",
    "# Load the entire model on the GPU 0\n",
    "# device_map = {\"\": 0}\n",
    "device_map=\"auto\"\n"
   ]
  },
  {
   "cell_type": "code",
   "execution_count": 16,
   "metadata": {},
   "outputs": [],
   "source": [
    "# Load QLoRA configuration\n",
    "compute_dtype = getattr(torch, bnb_4bit_compute_dtype)\n",
    "\n",
    "bnb_config = BitsAndBytesConfig(\n",
    "    load_in_4bit=use_4bit, # Activates 4-bit precision loading\n",
    "    bnb_4bit_compute_dtype=compute_dtype, # float16\n",
    "    bnb_4bit_use_double_quant=use_nested_quant, # False\n",
    ")"
   ]
  },
  {
   "cell_type": "code",
   "execution_count": 17,
   "metadata": {},
   "outputs": [],
   "source": [
    "# Check GPU compatibility with bfloat16\n",
    "if compute_dtype == torch.float16 and use_4bit:\n",
    "    major, _ = torch.cuda.get_device_capability()\n",
    "    if major >= 8:\n",
    "        print(\"Setting BF16 to True\")\n",
    "        bf16 = True\n",
    "    else:\n",
    "        bf16 = False\n"
   ]
  },
  {
   "cell_type": "markdown",
   "metadata": {},
   "source": [
    "### Load model and tokenizer"
   ]
  },
  {
   "cell_type": "code",
   "execution_count": 18,
   "metadata": {},
   "outputs": [
    {
     "name": "stderr",
     "output_type": "stream",
     "text": [
      "`low_cpu_mem_usage` was None, now default to True since model is quantized.\n",
      "Loading checkpoint shards: 100%|██████████| 2/2 [00:01<00:00,  1.63it/s]\n"
     ]
    }
   ],
   "source": [
    "# Load base model\n",
    "model = AutoModelForCausalLM.from_pretrained(\n",
    "    model_name,\n",
    "    token=hf_token,\n",
    "    quantization_config=bnb_config\n",
    ")\n",
    "model.config.use_cache = False\n",
    "model.config.pretraining_tp = 1\n",
    "\n",
    "tokenizer = AutoTokenizer.from_pretrained(model_name,\n",
    "                                          token=hf_token,\n",
    "                                          trust_remote_code=True)\n",
    "tokenizer.pad_token = tokenizer.eos_token\n",
    "tokenizer.padding_side = \"right\" # Fix weird overflow issue with fp16 training\n"
   ]
  },
  {
   "cell_type": "code",
   "execution_count": 19,
   "metadata": {},
   "outputs": [],
   "source": [
    "# Load LoRA configuration\n",
    "peft_config = LoraConfig(\n",
    "    lora_alpha=lora_alpha,\n",
    "    lora_dropout=lora_dropout,\n",
    "    r=lora_r,\n",
    "    bias=\"all\",\n",
    "    task_type=\"CAUSAL_LM\",\n",
    "    target_modules=[\"q_proj\", \"k_proj\", \"v_proj\", \"o_proj\",\"gate_proj\", \"up_proj\", \"down_proj\", \"act_proj\"]\n",
    ")"
   ]
  },
  {
   "cell_type": "code",
   "execution_count": 20,
   "metadata": {},
   "outputs": [
    {
     "data": {
      "text/plain": [
       "TrainingArguments(\n",
       "_n_gpu=1,\n",
       "accelerator_config={'split_batches': False, 'dispatch_batches': None, 'even_batches': True, 'use_seedable_sampler': True, 'non_blocking': False, 'gradient_accumulation_kwargs': None, 'use_configured_state': False},\n",
       "adafactor=False,\n",
       "adam_beta1=0.9,\n",
       "adam_beta2=0.999,\n",
       "adam_epsilon=1e-08,\n",
       "auto_find_batch_size=False,\n",
       "average_tokens_across_devices=False,\n",
       "batch_eval_metrics=False,\n",
       "bf16=False,\n",
       "bf16_full_eval=False,\n",
       "data_seed=None,\n",
       "dataloader_drop_last=False,\n",
       "dataloader_num_workers=0,\n",
       "dataloader_persistent_workers=False,\n",
       "dataloader_pin_memory=True,\n",
       "dataloader_prefetch_factor=None,\n",
       "ddp_backend=None,\n",
       "ddp_broadcast_buffers=None,\n",
       "ddp_bucket_cap_mb=None,\n",
       "ddp_find_unused_parameters=None,\n",
       "ddp_timeout=1800,\n",
       "debug=[],\n",
       "deepspeed=None,\n",
       "disable_tqdm=False,\n",
       "dispatch_batches=None,\n",
       "do_eval=False,\n",
       "do_predict=False,\n",
       "do_train=False,\n",
       "eval_accumulation_steps=None,\n",
       "eval_delay=0,\n",
       "eval_do_concat_batches=True,\n",
       "eval_on_start=False,\n",
       "eval_steps=None,\n",
       "eval_strategy=no,\n",
       "eval_use_gather_object=False,\n",
       "evaluation_strategy=None,\n",
       "fp16=True,\n",
       "fp16_backend=auto,\n",
       "fp16_full_eval=False,\n",
       "fp16_opt_level=O1,\n",
       "fsdp=[],\n",
       "fsdp_config={'min_num_params': 0, 'xla': False, 'xla_fsdp_v2': False, 'xla_fsdp_grad_ckpt': False},\n",
       "fsdp_min_num_params=0,\n",
       "fsdp_transformer_layer_cls_to_wrap=None,\n",
       "full_determinism=False,\n",
       "gradient_accumulation_steps=1,\n",
       "gradient_checkpointing=False,\n",
       "gradient_checkpointing_kwargs=None,\n",
       "greater_is_better=None,\n",
       "group_by_length=True,\n",
       "half_precision_backend=auto,\n",
       "hub_always_push=False,\n",
       "hub_model_id=None,\n",
       "hub_private_repo=None,\n",
       "hub_strategy=every_save,\n",
       "hub_token=<HUB_TOKEN>,\n",
       "ignore_data_skip=False,\n",
       "include_for_metrics=[],\n",
       "include_inputs_for_metrics=False,\n",
       "include_num_input_tokens_seen=False,\n",
       "include_tokens_per_second=False,\n",
       "jit_mode_eval=False,\n",
       "label_names=None,\n",
       "label_smoothing_factor=0.0,\n",
       "learning_rate=0.0002,\n",
       "length_column_name=length,\n",
       "load_best_model_at_end=False,\n",
       "local_rank=0,\n",
       "log_level=passive,\n",
       "log_level_replica=warning,\n",
       "log_on_each_node=True,\n",
       "logging_dir=./results/runs/Jan10_19-19-31_Aladino-LLM,\n",
       "logging_first_step=False,\n",
       "logging_nan_inf_filter=True,\n",
       "logging_steps=25,\n",
       "logging_strategy=steps,\n",
       "lr_scheduler_kwargs={},\n",
       "lr_scheduler_type=constant,\n",
       "max_grad_norm=0.3,\n",
       "max_steps=-1,\n",
       "metric_for_best_model=None,\n",
       "mp_parameters=,\n",
       "neftune_noise_alpha=None,\n",
       "no_cuda=False,\n",
       "num_train_epochs=1,\n",
       "optim=paged_adamw_32bit,\n",
       "optim_args=None,\n",
       "optim_target_modules=None,\n",
       "output_dir=./results,\n",
       "overwrite_output_dir=False,\n",
       "past_index=-1,\n",
       "per_device_eval_batch_size=8,\n",
       "per_device_train_batch_size=8,\n",
       "prediction_loss_only=False,\n",
       "push_to_hub=False,\n",
       "push_to_hub_model_id=None,\n",
       "push_to_hub_organization=None,\n",
       "push_to_hub_token=<PUSH_TO_HUB_TOKEN>,\n",
       "ray_scope=last,\n",
       "remove_unused_columns=True,\n",
       "report_to=['tensorboard'],\n",
       "restore_callback_states_from_checkpoint=False,\n",
       "resume_from_checkpoint=None,\n",
       "run_name=./results,\n",
       "save_on_each_node=False,\n",
       "save_only_model=False,\n",
       "save_safetensors=True,\n",
       "save_steps=25,\n",
       "save_strategy=steps,\n",
       "save_total_limit=None,\n",
       "seed=42,\n",
       "skip_memory_metrics=True,\n",
       "split_batches=None,\n",
       "tf32=None,\n",
       "torch_compile=False,\n",
       "torch_compile_backend=None,\n",
       "torch_compile_mode=None,\n",
       "torch_empty_cache_steps=None,\n",
       "torchdynamo=None,\n",
       "tpu_metrics_debug=False,\n",
       "tpu_num_cores=None,\n",
       "use_cpu=False,\n",
       "use_ipex=False,\n",
       "use_legacy_prediction_loop=False,\n",
       "use_liger_kernel=False,\n",
       "use_mps_device=False,\n",
       "warmup_ratio=0.03,\n",
       "warmup_steps=0,\n",
       "weight_decay=0.001,\n",
       ")"
      ]
     },
     "execution_count": 20,
     "metadata": {},
     "output_type": "execute_result"
    }
   ],
   "source": [
    "# Set training parameters\n",
    "training_arguments = TrainingArguments(\n",
    "    output_dir=output_dir,\n",
    "    num_train_epochs=num_train_epochs,\n",
    "    per_device_train_batch_size=per_device_train_batch_size,\n",
    "    gradient_accumulation_steps=gradient_accumulation_steps,\n",
    "    optim=optim,\n",
    "    save_steps=save_steps,\n",
    "    logging_steps=logging_steps,\n",
    "    learning_rate=learning_rate,\n",
    "    weight_decay=weight_decay,\n",
    "    fp16=fp16,\n",
    "    bf16=bf16,\n",
    "    max_grad_norm=max_grad_norm,\n",
    "    max_steps=max_steps,\n",
    "    warmup_ratio=warmup_ratio,\n",
    "    group_by_length=group_by_length,\n",
    "    lr_scheduler_type=lr_scheduler_type,\n",
    "    report_to=\"tensorboard\",\n",
    ")\n",
    "training_arguments"
   ]
  },
  {
   "cell_type": "code",
   "execution_count": 21,
   "metadata": {},
   "outputs": [
    {
     "name": "stderr",
     "output_type": "stream",
     "text": [
      "/tmp/ipykernel_2351/113689717.py:1: FutureWarning: `tokenizer` is deprecated and removed starting from version 0.16.0 for `SFTTrainer.__init__`. Use `processing_class` instead.\n",
      "  trainer = SFTTrainer(\n",
      "Map: 100%|██████████| 372/372 [00:00<00:00, 5199.22 examples/s]\n"
     ]
    }
   ],
   "source": [
    "\n",
    "trainer = SFTTrainer(\n",
    "    model=model,\n",
    "    train_dataset=dataset,\n",
    "    peft_config=peft_config,\n",
    "    tokenizer=tokenizer,\n",
    "    args=training_arguments,\n",
    ")\n"
   ]
  },
  {
   "cell_type": "markdown",
   "metadata": {},
   "source": [
    "### Training\n"
   ]
  },
  {
   "cell_type": "code",
   "execution_count": 22,
   "metadata": {},
   "outputs": [
    {
     "data": {
      "text/html": [
       "\n",
       "    <div>\n",
       "      \n",
       "      <progress value='47' max='47' style='width:300px; height:20px; vertical-align: middle;'></progress>\n",
       "      [47/47 00:23, Epoch 1/1]\n",
       "    </div>\n",
       "    <table border=\"1\" class=\"dataframe\">\n",
       "  <thead>\n",
       " <tr style=\"text-align: left;\">\n",
       "      <th>Step</th>\n",
       "      <th>Training Loss</th>\n",
       "    </tr>\n",
       "  </thead>\n",
       "  <tbody>\n",
       "    <tr>\n",
       "      <td>25</td>\n",
       "      <td>1.259900</td>\n",
       "    </tr>\n",
       "  </tbody>\n",
       "</table><p>"
      ],
      "text/plain": [
       "<IPython.core.display.HTML object>"
      ]
     },
     "metadata": {},
     "output_type": "display_data"
    }
   ],
   "source": [
    "# Train model\n",
    "trainer.train()\n",
    "trainer.model.save_pretrained(new_model)"
   ]
  },
  {
   "cell_type": "markdown",
   "metadata": {},
   "source": [
    "# Parameter tuning "
   ]
  },
  {
   "cell_type": "code",
   "execution_count": 21,
   "metadata": {},
   "outputs": [],
   "source": [
    "import itertools\n",
    "import json\n",
    "\n",
    "# Define the parameter grid\n",
    "param_grid = {\n",
    "    \"lora_r\": [16, 32, 64],          # LoRA attention dimension\n",
    "    \"bias\": [\"none\", \"all\", \"lora_only\"],  # Different bias configurations\n",
    "}"
   ]
  },
  {
   "cell_type": "code",
   "execution_count": 22,
   "metadata": {},
   "outputs": [],
   "source": [
    "# Create all combinations of parameters\n",
    "param_combinations = list(itertools.product(*param_grid.values()))\n",
    "\n",
    "# Directory to save results\n",
    "results_file = \"lora_training_results.json\"\n",
    "results = []"
   ]
  },
  {
   "cell_type": "code",
   "execution_count": null,
   "metadata": {},
   "outputs": [
    {
     "name": "stderr",
     "output_type": "stream",
     "text": [
      "Loading checkpoint shards:   0%|          | 0/2 [00:00<?, ?it/s]"
     ]
    },
    {
     "name": "stderr",
     "output_type": "stream",
     "text": [
      "Loading checkpoint shards: 100%|██████████| 2/2 [00:00<00:00,  3.31it/s]\n"
     ]
    }
   ],
   "source": [
    "\n"
   ]
  },
  {
   "cell_type": "markdown",
   "metadata": {},
   "source": [
    "### Prompt model function "
   ]
  },
  {
   "cell_type": "code",
   "execution_count": 23,
   "metadata": {},
   "outputs": [],
   "source": [
    "def prompt_model(input, ftmodel):\n",
    "    device = \"cuda\" if torch.cuda.is_available() else \"cpu\"\n",
    "    base_model = AutoModelForCausalLM.from_pretrained(\n",
    "        model_name,\n",
    "        low_cpu_mem_usage=False,\n",
    "        return_dict=True,\n",
    "        torch_dtype=torch.float16\n",
    "    )\n",
    "    model = PeftModel.from_pretrained(base_model, ftmodel)\n",
    "    model = model.merge_and_unload().to(device)\n",
    "\n",
    "    # Reload tokenizer to save it\n",
    "    tokenizer = AutoTokenizer.from_pretrained(model_name, trust_remote_code=True)\n",
    "    tokenizer.pad_token = tokenizer.eos_token\n",
    "    tokenizer.padding_side = \"right\"\n",
    "\n",
    "\n",
    "    input_ids = tokenizer(input, return_tensors=\"pt\").to(device)\n",
    "    outputs = model.generate(**input_ids, max_length=50)\n",
    "\n",
    "    return tokenizer.decode(outputs[0], skip_special_tokens=True)"
   ]
  },
  {
   "cell_type": "markdown",
   "metadata": {},
   "source": [
    "### Parameter test loop "
   ]
  },
  {
   "cell_type": "code",
   "execution_count": 24,
   "metadata": {},
   "outputs": [
    {
     "name": "stdout",
     "output_type": "stream",
     "text": [
      "Running configuration 1/9...\n",
      "Parameters: {'lora_r': 16, 'bias': 'none'}\n"
     ]
    },
    {
     "name": "stderr",
     "output_type": "stream",
     "text": [
      "/tmp/ipykernel_2189/627363724.py:66: FutureWarning: `tokenizer` is deprecated and removed starting from version 0.16.0 for `SFTTrainer.__init__`. Use `processing_class` instead.\n",
      "  trainer = SFTTrainer(\n"
     ]
    },
    {
     "data": {
      "text/html": [
       "\n",
       "    <div>\n",
       "      \n",
       "      <progress value='125' max='125' style='width:300px; height:20px; vertical-align: middle;'></progress>\n",
       "      [125/125 00:31, Epoch 1/1]\n",
       "    </div>\n",
       "    <table border=\"1\" class=\"dataframe\">\n",
       "  <thead>\n",
       " <tr style=\"text-align: left;\">\n",
       "      <th>Step</th>\n",
       "      <th>Training Loss</th>\n",
       "    </tr>\n",
       "  </thead>\n",
       "  <tbody>\n",
       "    <tr>\n",
       "      <td>25</td>\n",
       "      <td>2.081900</td>\n",
       "    </tr>\n",
       "    <tr>\n",
       "      <td>50</td>\n",
       "      <td>1.988100</td>\n",
       "    </tr>\n",
       "    <tr>\n",
       "      <td>75</td>\n",
       "      <td>1.938700</td>\n",
       "    </tr>\n",
       "    <tr>\n",
       "      <td>100</td>\n",
       "      <td>1.796200</td>\n",
       "    </tr>\n",
       "    <tr>\n",
       "      <td>125</td>\n",
       "      <td>1.819600</td>\n",
       "    </tr>\n",
       "  </tbody>\n",
       "</table><p>"
      ],
      "text/plain": [
       "<IPython.core.display.HTML object>"
      ]
     },
     "metadata": {},
     "output_type": "display_data"
    },
    {
     "name": "stderr",
     "output_type": "stream",
     "text": [
      "Loading checkpoint shards: 100%|██████████| 2/2 [00:00<00:00,  3.49it/s]\n",
      "Loading checkpoint shards: 100%|██████████| 2/2 [00:00<00:00,  3.53it/s]\n",
      "Loading checkpoint shards: 100%|██████████| 2/2 [00:00<00:00,  3.49it/s]\n",
      "Loading checkpoint shards: 100%|██████████| 2/2 [00:00<00:00,  3.62it/s]\n",
      "Loading checkpoint shards: 100%|██████████| 2/2 [00:00<00:00,  3.63it/s]\n",
      "Loading checkpoint shards: 100%|██████████| 2/2 [00:00<00:00,  3.69it/s]\n",
      "Loading checkpoint shards: 100%|██████████| 2/2 [00:00<00:00,  3.69it/s]\n",
      "Loading checkpoint shards: 100%|██████████| 2/2 [00:00<00:00,  3.69it/s]\n",
      "Loading checkpoint shards: 100%|██████████| 2/2 [00:00<00:00,  3.70it/s]\n",
      "Loading checkpoint shards: 100%|██████████| 2/2 [00:00<00:00,  3.67it/s]\n"
     ]
    },
    {
     "name": "stdout",
     "output_type": "stream",
     "text": [
      "Running configuration 2/9...\n",
      "Parameters: {'lora_r': 16, 'bias': 'all'}\n"
     ]
    },
    {
     "name": "stderr",
     "output_type": "stream",
     "text": [
      "/tmp/ipykernel_2189/627363724.py:66: FutureWarning: `tokenizer` is deprecated and removed starting from version 0.16.0 for `SFTTrainer.__init__`. Use `processing_class` instead.\n",
      "  trainer = SFTTrainer(\n"
     ]
    },
    {
     "data": {
      "text/html": [
       "\n",
       "    <div>\n",
       "      \n",
       "      <progress value='125' max='125' style='width:300px; height:20px; vertical-align: middle;'></progress>\n",
       "      [125/125 00:30, Epoch 1/1]\n",
       "    </div>\n",
       "    <table border=\"1\" class=\"dataframe\">\n",
       "  <thead>\n",
       " <tr style=\"text-align: left;\">\n",
       "      <th>Step</th>\n",
       "      <th>Training Loss</th>\n",
       "    </tr>\n",
       "  </thead>\n",
       "  <tbody>\n",
       "    <tr>\n",
       "      <td>25</td>\n",
       "      <td>2.078900</td>\n",
       "    </tr>\n",
       "    <tr>\n",
       "      <td>50</td>\n",
       "      <td>1.987200</td>\n",
       "    </tr>\n",
       "    <tr>\n",
       "      <td>75</td>\n",
       "      <td>1.936300</td>\n",
       "    </tr>\n",
       "    <tr>\n",
       "      <td>100</td>\n",
       "      <td>1.794800</td>\n",
       "    </tr>\n",
       "    <tr>\n",
       "      <td>125</td>\n",
       "      <td>1.817200</td>\n",
       "    </tr>\n",
       "  </tbody>\n",
       "</table><p>"
      ],
      "text/plain": [
       "<IPython.core.display.HTML object>"
      ]
     },
     "metadata": {},
     "output_type": "display_data"
    },
    {
     "name": "stderr",
     "output_type": "stream",
     "text": [
      "Loading checkpoint shards: 100%|██████████| 2/2 [00:00<00:00,  3.60it/s]\n",
      "Loading checkpoint shards: 100%|██████████| 2/2 [00:00<00:00,  3.65it/s]\n",
      "Loading checkpoint shards: 100%|██████████| 2/2 [00:00<00:00,  3.67it/s]\n",
      "Loading checkpoint shards: 100%|██████████| 2/2 [00:00<00:00,  3.68it/s]\n",
      "Loading checkpoint shards: 100%|██████████| 2/2 [00:00<00:00,  3.67it/s]\n",
      "Loading checkpoint shards: 100%|██████████| 2/2 [00:00<00:00,  3.49it/s]\n",
      "Loading checkpoint shards: 100%|██████████| 2/2 [00:00<00:00,  3.69it/s]\n",
      "Loading checkpoint shards: 100%|██████████| 2/2 [00:00<00:00,  3.70it/s]\n",
      "Loading checkpoint shards: 100%|██████████| 2/2 [00:00<00:00,  3.68it/s]\n",
      "Loading checkpoint shards: 100%|██████████| 2/2 [00:00<00:00,  3.66it/s]\n"
     ]
    },
    {
     "name": "stdout",
     "output_type": "stream",
     "text": [
      "Running configuration 3/9...\n",
      "Parameters: {'lora_r': 16, 'bias': 'lora_only'}\n"
     ]
    },
    {
     "name": "stderr",
     "output_type": "stream",
     "text": [
      "/tmp/ipykernel_2189/627363724.py:66: FutureWarning: `tokenizer` is deprecated and removed starting from version 0.16.0 for `SFTTrainer.__init__`. Use `processing_class` instead.\n",
      "  trainer = SFTTrainer(\n"
     ]
    },
    {
     "data": {
      "text/html": [
       "\n",
       "    <div>\n",
       "      \n",
       "      <progress value='125' max='125' style='width:300px; height:20px; vertical-align: middle;'></progress>\n",
       "      [125/125 00:30, Epoch 1/1]\n",
       "    </div>\n",
       "    <table border=\"1\" class=\"dataframe\">\n",
       "  <thead>\n",
       " <tr style=\"text-align: left;\">\n",
       "      <th>Step</th>\n",
       "      <th>Training Loss</th>\n",
       "    </tr>\n",
       "  </thead>\n",
       "  <tbody>\n",
       "    <tr>\n",
       "      <td>25</td>\n",
       "      <td>2.078700</td>\n",
       "    </tr>\n",
       "    <tr>\n",
       "      <td>50</td>\n",
       "      <td>1.987300</td>\n",
       "    </tr>\n",
       "    <tr>\n",
       "      <td>75</td>\n",
       "      <td>1.936400</td>\n",
       "    </tr>\n",
       "    <tr>\n",
       "      <td>100</td>\n",
       "      <td>1.794600</td>\n",
       "    </tr>\n",
       "    <tr>\n",
       "      <td>125</td>\n",
       "      <td>1.817100</td>\n",
       "    </tr>\n",
       "  </tbody>\n",
       "</table><p>"
      ],
      "text/plain": [
       "<IPython.core.display.HTML object>"
      ]
     },
     "metadata": {},
     "output_type": "display_data"
    },
    {
     "name": "stderr",
     "output_type": "stream",
     "text": [
      "Loading checkpoint shards: 100%|██████████| 2/2 [00:00<00:00,  3.56it/s]\n",
      "Loading checkpoint shards: 100%|██████████| 2/2 [00:00<00:00,  3.68it/s]\n",
      "Loading checkpoint shards: 100%|██████████| 2/2 [00:00<00:00,  3.72it/s]\n",
      "Loading checkpoint shards: 100%|██████████| 2/2 [00:00<00:00,  3.73it/s]\n",
      "Loading checkpoint shards: 100%|██████████| 2/2 [00:00<00:00,  3.73it/s]\n",
      "Loading checkpoint shards: 100%|██████████| 2/2 [00:00<00:00,  3.73it/s]\n",
      "Loading checkpoint shards: 100%|██████████| 2/2 [00:00<00:00,  3.74it/s]\n",
      "Loading checkpoint shards: 100%|██████████| 2/2 [00:00<00:00,  3.72it/s]\n",
      "Loading checkpoint shards: 100%|██████████| 2/2 [00:00<00:00,  3.74it/s]\n",
      "Loading checkpoint shards: 100%|██████████| 2/2 [00:00<00:00,  3.73it/s]\n"
     ]
    },
    {
     "name": "stdout",
     "output_type": "stream",
     "text": [
      "Running configuration 4/9...\n",
      "Parameters: {'lora_r': 32, 'bias': 'none'}\n"
     ]
    },
    {
     "name": "stderr",
     "output_type": "stream",
     "text": [
      "/tmp/ipykernel_2189/627363724.py:66: FutureWarning: `tokenizer` is deprecated and removed starting from version 0.16.0 for `SFTTrainer.__init__`. Use `processing_class` instead.\n",
      "  trainer = SFTTrainer(\n"
     ]
    },
    {
     "data": {
      "text/html": [
       "\n",
       "    <div>\n",
       "      \n",
       "      <progress value='125' max='125' style='width:300px; height:20px; vertical-align: middle;'></progress>\n",
       "      [125/125 00:31, Epoch 1/1]\n",
       "    </div>\n",
       "    <table border=\"1\" class=\"dataframe\">\n",
       "  <thead>\n",
       " <tr style=\"text-align: left;\">\n",
       "      <th>Step</th>\n",
       "      <th>Training Loss</th>\n",
       "    </tr>\n",
       "  </thead>\n",
       "  <tbody>\n",
       "    <tr>\n",
       "      <td>25</td>\n",
       "      <td>2.084800</td>\n",
       "    </tr>\n",
       "    <tr>\n",
       "      <td>50</td>\n",
       "      <td>1.989800</td>\n",
       "    </tr>\n",
       "    <tr>\n",
       "      <td>75</td>\n",
       "      <td>1.937300</td>\n",
       "    </tr>\n",
       "    <tr>\n",
       "      <td>100</td>\n",
       "      <td>1.792400</td>\n",
       "    </tr>\n",
       "    <tr>\n",
       "      <td>125</td>\n",
       "      <td>1.815100</td>\n",
       "    </tr>\n",
       "  </tbody>\n",
       "</table><p>"
      ],
      "text/plain": [
       "<IPython.core.display.HTML object>"
      ]
     },
     "metadata": {},
     "output_type": "display_data"
    },
    {
     "name": "stderr",
     "output_type": "stream",
     "text": [
      "Loading checkpoint shards: 100%|██████████| 2/2 [00:00<00:00,  3.69it/s]\n",
      "Loading checkpoint shards: 100%|██████████| 2/2 [00:00<00:00,  3.73it/s]\n",
      "Loading checkpoint shards: 100%|██████████| 2/2 [00:00<00:00,  3.78it/s]\n",
      "Loading checkpoint shards: 100%|██████████| 2/2 [00:00<00:00,  3.77it/s]\n",
      "Loading checkpoint shards: 100%|██████████| 2/2 [00:00<00:00,  3.77it/s]\n",
      "Loading checkpoint shards: 100%|██████████| 2/2 [00:00<00:00,  3.79it/s]\n",
      "Loading checkpoint shards: 100%|██████████| 2/2 [00:00<00:00,  3.78it/s]\n",
      "Loading checkpoint shards: 100%|██████████| 2/2 [00:00<00:00,  3.82it/s]\n",
      "Loading checkpoint shards: 100%|██████████| 2/2 [00:00<00:00,  3.80it/s]\n",
      "Loading checkpoint shards: 100%|██████████| 2/2 [00:00<00:00,  3.81it/s]\n"
     ]
    },
    {
     "name": "stdout",
     "output_type": "stream",
     "text": [
      "Running configuration 5/9...\n",
      "Parameters: {'lora_r': 32, 'bias': 'all'}\n"
     ]
    },
    {
     "name": "stderr",
     "output_type": "stream",
     "text": [
      "/tmp/ipykernel_2189/627363724.py:66: FutureWarning: `tokenizer` is deprecated and removed starting from version 0.16.0 for `SFTTrainer.__init__`. Use `processing_class` instead.\n",
      "  trainer = SFTTrainer(\n"
     ]
    },
    {
     "data": {
      "text/html": [
       "\n",
       "    <div>\n",
       "      \n",
       "      <progress value='125' max='125' style='width:300px; height:20px; vertical-align: middle;'></progress>\n",
       "      [125/125 00:31, Epoch 1/1]\n",
       "    </div>\n",
       "    <table border=\"1\" class=\"dataframe\">\n",
       "  <thead>\n",
       " <tr style=\"text-align: left;\">\n",
       "      <th>Step</th>\n",
       "      <th>Training Loss</th>\n",
       "    </tr>\n",
       "  </thead>\n",
       "  <tbody>\n",
       "    <tr>\n",
       "      <td>25</td>\n",
       "      <td>2.086600</td>\n",
       "    </tr>\n",
       "    <tr>\n",
       "      <td>50</td>\n",
       "      <td>1.988000</td>\n",
       "    </tr>\n",
       "    <tr>\n",
       "      <td>75</td>\n",
       "      <td>1.940200</td>\n",
       "    </tr>\n",
       "    <tr>\n",
       "      <td>100</td>\n",
       "      <td>1.797300</td>\n",
       "    </tr>\n",
       "    <tr>\n",
       "      <td>125</td>\n",
       "      <td>1.818100</td>\n",
       "    </tr>\n",
       "  </tbody>\n",
       "</table><p>"
      ],
      "text/plain": [
       "<IPython.core.display.HTML object>"
      ]
     },
     "metadata": {},
     "output_type": "display_data"
    },
    {
     "name": "stderr",
     "output_type": "stream",
     "text": [
      "Loading checkpoint shards: 100%|██████████| 2/2 [00:00<00:00,  3.72it/s]\n",
      "Loading checkpoint shards: 100%|██████████| 2/2 [00:00<00:00,  3.69it/s]\n",
      "Loading checkpoint shards: 100%|██████████| 2/2 [00:00<00:00,  3.75it/s]\n",
      "Loading checkpoint shards: 100%|██████████| 2/2 [00:00<00:00,  3.67it/s]\n",
      "Loading checkpoint shards: 100%|██████████| 2/2 [00:00<00:00,  3.75it/s]\n",
      "Loading checkpoint shards: 100%|██████████| 2/2 [00:00<00:00,  3.76it/s]\n",
      "Loading checkpoint shards: 100%|██████████| 2/2 [00:00<00:00,  3.75it/s]\n",
      "Loading checkpoint shards: 100%|██████████| 2/2 [00:00<00:00,  3.77it/s]\n",
      "Loading checkpoint shards: 100%|██████████| 2/2 [00:00<00:00,  3.57it/s]\n",
      "Loading checkpoint shards: 100%|██████████| 2/2 [00:00<00:00,  3.77it/s]\n"
     ]
    },
    {
     "name": "stdout",
     "output_type": "stream",
     "text": [
      "Running configuration 6/9...\n",
      "Parameters: {'lora_r': 32, 'bias': 'lora_only'}\n"
     ]
    },
    {
     "name": "stderr",
     "output_type": "stream",
     "text": [
      "/tmp/ipykernel_2189/627363724.py:66: FutureWarning: `tokenizer` is deprecated and removed starting from version 0.16.0 for `SFTTrainer.__init__`. Use `processing_class` instead.\n",
      "  trainer = SFTTrainer(\n"
     ]
    },
    {
     "data": {
      "text/html": [
       "\n",
       "    <div>\n",
       "      \n",
       "      <progress value='125' max='125' style='width:300px; height:20px; vertical-align: middle;'></progress>\n",
       "      [125/125 00:31, Epoch 1/1]\n",
       "    </div>\n",
       "    <table border=\"1\" class=\"dataframe\">\n",
       "  <thead>\n",
       " <tr style=\"text-align: left;\">\n",
       "      <th>Step</th>\n",
       "      <th>Training Loss</th>\n",
       "    </tr>\n",
       "  </thead>\n",
       "  <tbody>\n",
       "    <tr>\n",
       "      <td>25</td>\n",
       "      <td>2.086400</td>\n",
       "    </tr>\n",
       "    <tr>\n",
       "      <td>50</td>\n",
       "      <td>1.988100</td>\n",
       "    </tr>\n",
       "    <tr>\n",
       "      <td>75</td>\n",
       "      <td>1.940400</td>\n",
       "    </tr>\n",
       "    <tr>\n",
       "      <td>100</td>\n",
       "      <td>1.797400</td>\n",
       "    </tr>\n",
       "    <tr>\n",
       "      <td>125</td>\n",
       "      <td>1.818200</td>\n",
       "    </tr>\n",
       "  </tbody>\n",
       "</table><p>"
      ],
      "text/plain": [
       "<IPython.core.display.HTML object>"
      ]
     },
     "metadata": {},
     "output_type": "display_data"
    },
    {
     "name": "stderr",
     "output_type": "stream",
     "text": [
      "Loading checkpoint shards: 100%|██████████| 2/2 [00:00<00:00,  3.72it/s]\n",
      "Loading checkpoint shards: 100%|██████████| 2/2 [00:00<00:00,  3.78it/s]\n",
      "Loading checkpoint shards: 100%|██████████| 2/2 [00:00<00:00,  3.75it/s]\n",
      "Loading checkpoint shards: 100%|██████████| 2/2 [00:00<00:00,  3.70it/s]\n",
      "Loading checkpoint shards: 100%|██████████| 2/2 [00:00<00:00,  3.76it/s]\n",
      "Loading checkpoint shards: 100%|██████████| 2/2 [00:00<00:00,  3.78it/s]\n",
      "Loading checkpoint shards: 100%|██████████| 2/2 [00:00<00:00,  3.76it/s]\n",
      "Loading checkpoint shards: 100%|██████████| 2/2 [00:00<00:00,  3.76it/s]\n",
      "Loading checkpoint shards: 100%|██████████| 2/2 [00:00<00:00,  3.74it/s]\n",
      "Loading checkpoint shards: 100%|██████████| 2/2 [00:00<00:00,  3.72it/s]\n"
     ]
    },
    {
     "name": "stdout",
     "output_type": "stream",
     "text": [
      "Running configuration 7/9...\n",
      "Parameters: {'lora_r': 64, 'bias': 'none'}\n"
     ]
    },
    {
     "name": "stderr",
     "output_type": "stream",
     "text": [
      "/tmp/ipykernel_2189/627363724.py:66: FutureWarning: `tokenizer` is deprecated and removed starting from version 0.16.0 for `SFTTrainer.__init__`. Use `processing_class` instead.\n",
      "  trainer = SFTTrainer(\n"
     ]
    },
    {
     "data": {
      "text/html": [
       "\n",
       "    <div>\n",
       "      \n",
       "      <progress value='125' max='125' style='width:300px; height:20px; vertical-align: middle;'></progress>\n",
       "      [125/125 00:37, Epoch 1/1]\n",
       "    </div>\n",
       "    <table border=\"1\" class=\"dataframe\">\n",
       "  <thead>\n",
       " <tr style=\"text-align: left;\">\n",
       "      <th>Step</th>\n",
       "      <th>Training Loss</th>\n",
       "    </tr>\n",
       "  </thead>\n",
       "  <tbody>\n",
       "    <tr>\n",
       "      <td>25</td>\n",
       "      <td>2.081100</td>\n",
       "    </tr>\n",
       "    <tr>\n",
       "      <td>50</td>\n",
       "      <td>1.988600</td>\n",
       "    </tr>\n",
       "    <tr>\n",
       "      <td>75</td>\n",
       "      <td>1.937400</td>\n",
       "    </tr>\n",
       "    <tr>\n",
       "      <td>100</td>\n",
       "      <td>1.794100</td>\n",
       "    </tr>\n",
       "    <tr>\n",
       "      <td>125</td>\n",
       "      <td>1.818300</td>\n",
       "    </tr>\n",
       "  </tbody>\n",
       "</table><p>"
      ],
      "text/plain": [
       "<IPython.core.display.HTML object>"
      ]
     },
     "metadata": {},
     "output_type": "display_data"
    },
    {
     "name": "stderr",
     "output_type": "stream",
     "text": [
      "Loading checkpoint shards: 100%|██████████| 2/2 [00:00<00:00,  3.70it/s]\n",
      "Loading checkpoint shards: 100%|██████████| 2/2 [00:00<00:00,  3.74it/s]\n",
      "Loading checkpoint shards: 100%|██████████| 2/2 [00:00<00:00,  3.75it/s]\n",
      "Loading checkpoint shards: 100%|██████████| 2/2 [00:00<00:00,  3.75it/s]\n",
      "Loading checkpoint shards: 100%|██████████| 2/2 [00:00<00:00,  3.81it/s]\n",
      "Loading checkpoint shards: 100%|██████████| 2/2 [00:00<00:00,  3.80it/s]\n",
      "Loading checkpoint shards: 100%|██████████| 2/2 [00:00<00:00,  3.82it/s]\n",
      "Loading checkpoint shards: 100%|██████████| 2/2 [00:00<00:00,  3.83it/s]\n",
      "Loading checkpoint shards: 100%|██████████| 2/2 [00:00<00:00,  3.85it/s]\n",
      "Loading checkpoint shards: 100%|██████████| 2/2 [00:00<00:00,  3.90it/s]\n"
     ]
    },
    {
     "name": "stdout",
     "output_type": "stream",
     "text": [
      "Running configuration 8/9...\n",
      "Parameters: {'lora_r': 64, 'bias': 'all'}\n"
     ]
    },
    {
     "name": "stderr",
     "output_type": "stream",
     "text": [
      "/tmp/ipykernel_2189/627363724.py:66: FutureWarning: `tokenizer` is deprecated and removed starting from version 0.16.0 for `SFTTrainer.__init__`. Use `processing_class` instead.\n",
      "  trainer = SFTTrainer(\n"
     ]
    },
    {
     "data": {
      "text/html": [
       "\n",
       "    <div>\n",
       "      \n",
       "      <progress value='125' max='125' style='width:300px; height:20px; vertical-align: middle;'></progress>\n",
       "      [125/125 00:35, Epoch 1/1]\n",
       "    </div>\n",
       "    <table border=\"1\" class=\"dataframe\">\n",
       "  <thead>\n",
       " <tr style=\"text-align: left;\">\n",
       "      <th>Step</th>\n",
       "      <th>Training Loss</th>\n",
       "    </tr>\n",
       "  </thead>\n",
       "  <tbody>\n",
       "    <tr>\n",
       "      <td>25</td>\n",
       "      <td>2.081500</td>\n",
       "    </tr>\n",
       "    <tr>\n",
       "      <td>50</td>\n",
       "      <td>1.988300</td>\n",
       "    </tr>\n",
       "    <tr>\n",
       "      <td>75</td>\n",
       "      <td>1.935800</td>\n",
       "    </tr>\n",
       "    <tr>\n",
       "      <td>100</td>\n",
       "      <td>1.795500</td>\n",
       "    </tr>\n",
       "    <tr>\n",
       "      <td>125</td>\n",
       "      <td>1.819300</td>\n",
       "    </tr>\n",
       "  </tbody>\n",
       "</table><p>"
      ],
      "text/plain": [
       "<IPython.core.display.HTML object>"
      ]
     },
     "metadata": {},
     "output_type": "display_data"
    },
    {
     "name": "stderr",
     "output_type": "stream",
     "text": [
      "Loading checkpoint shards: 100%|██████████| 2/2 [00:00<00:00,  3.77it/s]\n",
      "Loading checkpoint shards: 100%|██████████| 2/2 [00:00<00:00,  3.82it/s]\n",
      "Loading checkpoint shards: 100%|██████████| 2/2 [00:00<00:00,  3.82it/s]\n",
      "Loading checkpoint shards: 100%|██████████| 2/2 [00:00<00:00,  3.83it/s]\n",
      "Loading checkpoint shards: 100%|██████████| 2/2 [00:00<00:00,  3.83it/s]\n",
      "Loading checkpoint shards: 100%|██████████| 2/2 [00:00<00:00,  3.84it/s]\n",
      "Loading checkpoint shards: 100%|██████████| 2/2 [00:00<00:00,  3.78it/s]\n",
      "Loading checkpoint shards: 100%|██████████| 2/2 [00:00<00:00,  3.76it/s]\n",
      "Loading checkpoint shards: 100%|██████████| 2/2 [00:00<00:00,  3.77it/s]\n",
      "Loading checkpoint shards: 100%|██████████| 2/2 [00:00<00:00,  3.79it/s]\n"
     ]
    },
    {
     "name": "stdout",
     "output_type": "stream",
     "text": [
      "Running configuration 9/9...\n",
      "Parameters: {'lora_r': 64, 'bias': 'lora_only'}\n"
     ]
    },
    {
     "name": "stderr",
     "output_type": "stream",
     "text": [
      "/tmp/ipykernel_2189/627363724.py:66: FutureWarning: `tokenizer` is deprecated and removed starting from version 0.16.0 for `SFTTrainer.__init__`. Use `processing_class` instead.\n",
      "  trainer = SFTTrainer(\n"
     ]
    },
    {
     "data": {
      "text/html": [
       "\n",
       "    <div>\n",
       "      \n",
       "      <progress value='125' max='125' style='width:300px; height:20px; vertical-align: middle;'></progress>\n",
       "      [125/125 00:34, Epoch 1/1]\n",
       "    </div>\n",
       "    <table border=\"1\" class=\"dataframe\">\n",
       "  <thead>\n",
       " <tr style=\"text-align: left;\">\n",
       "      <th>Step</th>\n",
       "      <th>Training Loss</th>\n",
       "    </tr>\n",
       "  </thead>\n",
       "  <tbody>\n",
       "    <tr>\n",
       "      <td>25</td>\n",
       "      <td>2.081000</td>\n",
       "    </tr>\n",
       "    <tr>\n",
       "      <td>50</td>\n",
       "      <td>1.987000</td>\n",
       "    </tr>\n",
       "    <tr>\n",
       "      <td>75</td>\n",
       "      <td>1.935300</td>\n",
       "    </tr>\n",
       "    <tr>\n",
       "      <td>100</td>\n",
       "      <td>1.795100</td>\n",
       "    </tr>\n",
       "    <tr>\n",
       "      <td>125</td>\n",
       "      <td>1.819400</td>\n",
       "    </tr>\n",
       "  </tbody>\n",
       "</table><p>"
      ],
      "text/plain": [
       "<IPython.core.display.HTML object>"
      ]
     },
     "metadata": {},
     "output_type": "display_data"
    },
    {
     "name": "stderr",
     "output_type": "stream",
     "text": [
      "Loading checkpoint shards: 100%|██████████| 2/2 [00:00<00:00,  3.80it/s]\n",
      "Loading checkpoint shards: 100%|██████████| 2/2 [00:00<00:00,  3.82it/s]\n",
      "Loading checkpoint shards: 100%|██████████| 2/2 [00:00<00:00,  3.78it/s]\n",
      "Loading checkpoint shards: 100%|██████████| 2/2 [00:00<00:00,  3.76it/s]\n",
      "Loading checkpoint shards: 100%|██████████| 2/2 [00:00<00:00,  3.75it/s]\n",
      "Loading checkpoint shards: 100%|██████████| 2/2 [00:00<00:00,  3.86it/s]\n",
      "Loading checkpoint shards: 100%|██████████| 2/2 [00:00<00:00,  3.83it/s]\n",
      "Loading checkpoint shards: 100%|██████████| 2/2 [00:00<00:00,  3.75it/s]\n",
      "Loading checkpoint shards: 100%|██████████| 2/2 [00:00<00:00,  3.81it/s]\n",
      "Loading checkpoint shards: 100%|██████████| 2/2 [00:00<00:00,  3.82it/s]\n"
     ]
    }
   ],
   "source": [
    "import json\n",
    "from transformers import pipeline\n",
    "import gc\n",
    "import torch \n",
    "\n",
    "prompts = [\n",
    "    \"Who became king of Holland in 1806?\",\n",
    "    \"What individual has won the most Olympic gold medals in the history of the games?\",\n",
    "    \"Which Dutch artist painted Girl with a Pearl Earring?\",\n",
    "    \"Who gave the UN the land in NY to build their HQ\",\n",
    "    \"Who saved Andromeda from the sea monster\",\n",
    "    \"What film won the 1943 Oscar as best film\",\n",
    "    \"Give me a bulleted list of all of the Star Wars movies in order by release date.\",\n",
    "    \"When was the first Academy Awards?\",\n",
    "    \"When was world war 2?\",\n",
    "    \"FATF was established in which year?\"\n",
    "]\n",
    "\n",
    "# Loop through each combination\n",
    "for i, param_set in enumerate(param_combinations):\n",
    "    print(f\"Running configuration {i + 1}/{len(param_combinations)}...\")\n",
    "    \n",
    "    # Unpack parameters\n",
    "    params = dict(zip(param_grid.keys(), param_set))\n",
    "    print(f\"Parameters: {params}\")\n",
    "    \n",
    "    # Dynamically set parameters\n",
    "    num_train_epochs = 1\n",
    "    lora_r = params[\"lora_r\"]\n",
    "    bias = params[\"bias\"]\n",
    "    lora_alpha = 32\n",
    "\n",
    "    # Set training parameters\n",
    "    training_arguments = TrainingArguments(\n",
    "    output_dir=output_dir,\n",
    "    num_train_epochs=num_train_epochs,\n",
    "    per_device_train_batch_size=per_device_train_batch_size,\n",
    "    gradient_accumulation_steps=gradient_accumulation_steps,\n",
    "    optim=optim,\n",
    "    save_steps=save_steps,\n",
    "    logging_steps=logging_steps,\n",
    "    learning_rate=learning_rate,\n",
    "    weight_decay=weight_decay,\n",
    "    fp16=fp16,\n",
    "    bf16=bf16,\n",
    "    max_grad_norm=max_grad_norm,\n",
    "    max_steps=max_steps,\n",
    "    warmup_ratio=warmup_ratio,\n",
    "    group_by_length=group_by_length,\n",
    "    lr_scheduler_type=lr_scheduler_type,\n",
    "    report_to=\"tensorboard\",\n",
    "    )\n",
    "    training_arguments\n",
    "\n",
    "    # Load LoRA configuration\n",
    "    peft_config = LoraConfig(\n",
    "    lora_alpha=lora_alpha,\n",
    "    lora_dropout=lora_dropout,\n",
    "    r=lora_r,\n",
    "    bias=bias,\n",
    "    task_type=\"CAUSAL_LM\",\n",
    "    target_modules=[\"q_proj\", \"k_proj\", \"v_proj\", \"o_proj\",\"gate_proj\", \"up_proj\", \"down_proj\", \"act_proj\"]\n",
    "    )   \n",
    "\n",
    "    # Set supervised fine-tuning parameters\n",
    "    trainer = SFTTrainer(\n",
    "    model=model,\n",
    "    train_dataset=dataset,\n",
    "    peft_config=peft_config,   \n",
    "    tokenizer=tokenizer,\n",
    "    args=training_arguments,\n",
    "    )\n",
    "\n",
    "    try:\n",
    "        # Train model\n",
    "        trainer.train()\n",
    "        trainer.model.save_pretrained(new_model)\n",
    "        \n",
    "        prompt_results = {}\n",
    "        for prompt in prompts:\n",
    "            prompt_results[prompt] = prompt_model(prompt, new_model)#carga el modelo base para cada pregunta\n",
    "\n",
    "        # Collect results\n",
    "        results.append({\n",
    "            \"config_id\": i,\n",
    "            \"parameters\": params,\n",
    "            \"results\": prompt_results, \n",
    "        })\n",
    "\n",
    "    except Exception as e:\n",
    "        print(f\"Error for configuration {i}: {e}\")\n",
    "        results.append({\n",
    "            \"config_id\": i,\n",
    "            \"parameters\": params,\n",
    "            \"error\": str(e),\n",
    "        })\n",
    "\n",
    "\n",
    "    finally:\n",
    "        # Clear GPU memory\n",
    "        del trainer\n",
    "        torch.cuda.empty_cache()\n",
    "        gc.collect()    \n",
    "\n",
    "\n",
    "    # Save results after each configuration\n",
    "    with open(\"lora_training_1ep32a.json\", \"w\") as f:\n",
    "        json.dump(results, f, indent=4)"
   ]
  },
  {
   "cell_type": "markdown",
   "metadata": {},
   "source": [
    "# Prompt Fine Tuned model "
   ]
  },
  {
   "cell_type": "code",
   "execution_count": 39,
   "metadata": {},
   "outputs": [
    {
     "name": "stderr",
     "output_type": "stream",
     "text": [
      "Loading checkpoint shards:   0%|          | 0/2 [00:00<?, ?it/s]"
     ]
    },
    {
     "name": "stderr",
     "output_type": "stream",
     "text": [
      "Loading checkpoint shards: 100%|██████████| 2/2 [00:00<00:00,  3.00it/s]\n"
     ]
    }
   ],
   "source": [
    "input_text = \"\"\"# system:\n",
    "Eres un asistente virtual para el Banco Falabela, especializado en procesos de cobranza. Sigues un diagrama de flujo estructurado para comunicarte con los clientes. Tu objetivo es guiar la conversación basándote en las etapas del flujo a continuación. Sé flexible para adaptarte si el usuario se desvía del flujo, pero siempre intenta regresar al proceso principal.\n",
    "\n",
    "En el flujo se definirán opciones, considera detectar las intenciones del usuario y responder de acuerdo con las opciones disponibles. Si el usuario se desvía, intenta redirigirlo al flujo principal. Recuerda confirmar los datos proporcionados y guiar al usuario hacia un cierre adecuado.\n",
    "\n",
    "<parametros>\n",
    "NOMBRE: Matias\n",
    "APELLIDO1: Pereira\n",
    "APELLIDO2: Santelices\n",
    "MONTO_DEUDA: 100000\n",
    "FECHA: 6 enero 2025\n",
    "FECHA_LIMITE: 31 enero 2025\n",
    "PORCENTAJE: 10\n",
    "PAGO_INICIAL: 10000\n",
    "N_CUOTAS: 3\n",
    "MONTO_CUOTAS: 30000\n",
    "</parametros>\n",
    "\n",
    "<definicion_flujo>\n",
    "\n",
    "{\n",
    "    \"FlujoInicial\": {\n",
    "        \"Inicio\": {\n",
    "            \"mensaje\": \"Buenos días, soy su agente virtual de Banco Falabella. Hablo con <NOMBRE> <APELLIDO1> <APELLIDO2>.\",\n",
    "            \"objetivo\": \"Validar el contacto y confirmar la identidad del cliente\",\n",
    "            \"opciones\": {\n",
    "                \"SI, con él\": {\"ir a\":\"Modulo_2\"},\n",
    "                \"NO, ¿de parte de quién?\": {\"mensaje\":\"Soy su agente virtual, ¿Puedo hablar con <NOMBRE> en este momento?. Tenemos una información comercial importante de sus productos del Banco Falabela, que se comunique con Banco Falabela o directamente en nuestras sucursales\"},\n",
    "                \"SI, estoy ocupado\": {\"mensaje\":\"Muchas gracias por su tiempo, nos comunicaremos nuevamente\"},\n",
    "                \"NO, no se encuentra\": {\"mensaje\":\"Tenemos una información comercial importante de sus productos del Banco Falabela, que se comunique con Banco Falabela o directamente en nuestras sucursales\"},\n",
    "                \"NO, equivocado\": {\"mensaje\":\"Disculpe las molestias. Que tenga buen día . Gracias por su atención\"},\n",
    "                \"NO, falleció\": {\"mensaje\":\"Lamentamos la situación. Por favor comunicarse al 6003906000. Gracias por su atención.\"},\n",
    "                \"Si, Un Momento por Favor\": {\"mensaje\":\"Gracias…\", \"ir a\":\"FlujoInicial\"}\n",
    "            }\n",
    "        }\n",
    "    },\n",
    "    \"Modulo_2\": {\n",
    "        \"Introducción\": {\n",
    "            \"mensaje\": \"Lo estoy llamando de SMARTIA por encargo de Banco Falabella. <NOMBRE>, el motivo de mi llamada es para informarle que al día de hoy usted mantiene una deuda de <MONTO_DEUDA>. El plazo para regularizar esta deuda es hasta el <FECHA>. ¿Está de acuerdo?\",\n",
    "            \"objetivo\": \"Presentarse, entregar información de la deuda y validar la disposición del cliente para realizar el pago\",\n",
    "            \"opciones\": {\n",
    "                \"SI\": {\"ir a\":\"ComprometePago\"},\n",
    "                \"NO\": {\"ir a\":\"PreguntarMotivo\"},\n",
    "                \"Cliente compromete fecha dentro del plazo\": {\"ir a\":\"RegistrarCompromiso\"},\n",
    "                \"Cliente compromete fecha fuera del plazo\": {\"ir a\":\"ExplicarPolíticas\"},\n",
    "            }\n",
    "        },\n",
    "        \"ComprometePago\": {\n",
    "            \"mensaje\": \"Perfecto, dejaré registrado entonces su compromiso de pago para el <FECHA>. Recuerde que el pago se puede hacer de forma presencial en caja banco Falabela y o a través de botón de pago en la pagina web de recsa punto ce ele. ¡Que tenga un excelente día!\",\n",
    "            \"objetivo\": \"Registrar el compromiso de pago y explicar las opciones de pago\",\n",
    "            \"fin\": True\n",
    "        },\n",
    "        \"PreguntarMotivo\": {\n",
    "            \"mensaje\": \"Entiendo que no pueda pagar. ¿Podría indicarme cuál es el motivo?\",\n",
    "            \"objetivo\": \"Identificar el motivo de la negativa y ofrecer alternativa de Plan de Pago\",\n",
    "            \"opciones\": {\n",
    "                \"Respuesta motivo de no pago\": {\"ir a\":\"OfrecerPlan\"}\n",
    "            }\n",
    "        },\n",
    "        \"OfrecerPlan\": {\n",
    "            \"mensaje\": \"Entiendo y pensando en su tranquilidad, Banco falabela, disponibiliza un plan de pago ¿Le gustaría saber más?\",\n",
    "            \"objetivo\": \"Ofrecer un plan de pago para regularizar la deuda\",\n",
    "            \"opciones\": {\n",
    "                \"Acepta\": {\"ir a\":\"ExplicarPlan\"},\n",
    "                \"No acepta\": {\"ir a\":\"AgradecerYFinalizar\"}\n",
    "            }\n",
    "        },\n",
    "        \"ExplicarPlan\": {\n",
    "            \"mensaje\": \"Esta campaña es una excelente alternativa, que le permite regularizar su deuda con un pago inicial del <PORCENTAJE> porciento, que le permitirá regularizar su saldo en <CUOTAS>, con pagos de <MONTO_CUOTAS>. Esta oferta es válida solo hasta <FECHA_LIMITE>. ¿Accede al beneficio hoy?\",\n",
    "            \"objetivo\": \"Explicar el plan de pago y solicitar la aceptación\",\n",
    "            \"opciones\": {\n",
    "                \"Acepta\": {\"ir a\":\"ExplicaActivacionPlan\"},\n",
    "                \"No acepta\": {\"ir a\":\"Finalizar\"}\n",
    "            }\n",
    "        },\n",
    "        \"ExplicaActivacionPlan\": {\n",
    "            \"mensaje\": \"Para activar el PLAN DE PAGO, debe realizar el pagar  pago inicial y luego presentarse en una sucursal de Banco falabela después de 2 días hábiles de haber realizado el pago inicial, con su cédula de identidad vigente y un comprobante de domicilio con una vigencia de 30 días. El pago se puede hacer de forma presencial en la caja banco Falabella y o a través de botón de pago en la pagina web de recsa punto ce ele. Mucha gracias por su tiempo. Que tenga un excelente día.\",\n",
    "            \"objetivo\": \"Explicar los pasos para activar el Plan de Pago\",\n",
    "            \"fin\": True\n",
    "        },\n",
    "        \"AgradecerYFinalizar\": {\n",
    "            \"mensaje\": \"Muchas gracias por su tiempo. Que tenga un excelente día.\",\n",
    "            \"objetivo\": \"Finalizar la conversación amablemente\",\n",
    "            \"fin\": True\n",
    "        },       \n",
    "        \"RegistrarCompromiso\": {\n",
    "            \"mensaje\": \"Perfecto, dejaré registrado entonces su compromiso de pago para el <FECHA>. Recuerde que el pago se puede hacer de forma presencial en caja banco Falabela y o a través de botón de pago en la pagina web de recsa punto ce ele. Que tenga un excelente día.\",\n",
    "            \"objetivo\": \"Registrar el compromiso de pago y explicar las opciones de pago\",\n",
    "            \"fin\": True\n",
    "        },\n",
    "        \"ExplicarPolíticas\": {\n",
    "            \"mensaje\": \"Disculpe, pero las políticas de falabela solo permiten establecer el <FECHA_LIMITE> como fecha máxima de pago. ¿Puede comprometer un pago en este plazo?\",\n",
    "            \"objetivo\": \"Explicar las políticas de pago y solicitar un compromiso de pago\",\n",
    "            \"opciones\": {\n",
    "                \"SI\": {\"ir a\":\"ComprometePago\"},\n",
    "                \"NO\": {\"ir a\":\"PreguntarMotivo\"},\n",
    "                \"Cliente compromete fecha dentro del plazo\": {\"ir a\":\"RegistrarCompromiso\"},\n",
    "                \"Cliente compromete fecha fuera del plazo\": {\"ir a\":\"ExplicarPolíticas\"},\n",
    "            }\n",
    "        },                \n",
    "        \"Finalizar\": {\n",
    "            \"mensaje\": \"Gracias por su atención. Que tenga un buen día.\",\n",
    "            \"objetivo\": \"Finalizar la conversación amablemente\",\n",
    "            \"fin\": True\n",
    "        }\n",
    "    }\n",
    "}\n",
    "\n",
    "</definicion_flujo>\n",
    "\n",
    "# user: inicio_llamada\n",
    "# assistant: Buenos días. Soy su agente virtual de Banco Falabela. ¿Hablo con Matías Pereira?\n",
    "# user: Si quien habla?\n",
    "# assistant: \"\"\"\n",
    "\n",
    "\n",
    "\n",
    "\n",
    "base_model = AutoModelForCausalLM.from_pretrained(\n",
    "    model_name,\n",
    "    low_cpu_mem_usage=False,\n",
    "    return_dict=True,\n",
    "    torch_dtype=torch.float16,\n",
    "    #device_map=device_map,\n",
    ")\n",
    "model = PeftModel.from_pretrained(base_model, new_model)\n",
    "model = model.merge_and_unload().to(\"cuda\")\n",
    "\n",
    "# Reload tokenizer to save it\n",
    "tokenizer = AutoTokenizer.from_pretrained(model_name, trust_remote_code=True)\n",
    "tokenizer.pad_token = tokenizer.eos_token\n",
    "tokenizer.padding_side = \"right\""
   ]
  },
  {
   "cell_type": "code",
   "execution_count": 41,
   "metadata": {},
   "outputs": [
    {
     "name": "stdout",
     "output_type": "stream",
     "text": [
      "{'input_ids': tensor([[     2, 235345,   1812,  ...,  20409, 235292, 235248]],\n",
      "       device='cuda:0'), 'attention_mask': tensor([[1, 1, 1,  ..., 1, 1, 1]], device='cuda:0')}\n",
      "<bos># system:\n",
      "Eres un asistente virtual para el Banco Falabela, especializado en procesos de cobranza. Sigues un diagrama de flujo estructurado para comunicarte con los clientes. Tu objetivo es guiar la conversación basándote en las etapas del flujo a continuación. Sé flexible para adaptarte si el usuario se desvía del flujo, pero siempre intenta regresar al proceso principal.\n",
      "\n",
      "En el flujo se definirán opciones, considera detectar las intenciones del usuario y responder de acuerdo con las opciones disponibles. Si el usuario se desvía, intenta redirigirlo al flujo principal. Recuerda confirmar los datos proporcionados y guiar al usuario hacia un cierre adecuado.\n",
      "\n",
      "<parametros>\n",
      "NOMBRE: Matias\n",
      "APELLIDO1: Pereira\n",
      "APELLIDO2: Santelices\n",
      "MONTO_DEUDA: 100000\n",
      "FECHA: 6 enero 2025\n",
      "FECHA_LIMITE: 31 enero 2025\n",
      "PORCENTAJE: 10\n",
      "PAGO_INICIAL: 10000\n",
      "N_CUOTAS: 3\n",
      "MONTO_CUOTAS: 30000\n",
      "</parametros>\n",
      "\n",
      "<definicion_flujo>\n",
      "\n",
      "{\n",
      "    \"FlujoInicial\": {\n",
      "        \"Inicio\": {\n",
      "            \"mensaje\": \"Buenos días, soy su agente virtual de Banco Falabella. Hablo con <NOMBRE> <APELLIDO1> <APELLIDO2>.\",\n",
      "            \"objetivo\": \"Validar el contacto y confirmar la identidad del cliente\",\n",
      "            \"opciones\": {\n",
      "                \"SI, con él\": {\"ir a\":\"Modulo_2\"},\n",
      "                \"NO, ¿de parte de quién?\": {\"mensaje\":\"Soy su agente virtual, ¿Puedo hablar con <NOMBRE> en este momento?. Tenemos una información comercial importante de sus productos del Banco Falabela, que se comunique con Banco Falabela o directamente en nuestras sucursales\"},\n",
      "                \"SI, estoy ocupado\": {\"mensaje\":\"Muchas gracias por su tiempo, nos comunicaremos nuevamente\"},\n",
      "                \"NO, no se encuentra\": {\"mensaje\":\"Tenemos una información comercial importante de sus productos del Banco Falabela, que se comunique con Banco Falabela o directamente en nuestras sucursales\"},\n",
      "                \"NO, equivocado\": {\"mensaje\":\"Disculpe las molestias. Que tenga buen día . Gracias por su atención\"},\n",
      "                \"NO, falleció\": {\"mensaje\":\"Lamentamos la situación. Por favor comunicarse al 6003906000. Gracias por su atención.\"},\n",
      "                \"Si, Un Momento por Favor\": {\"mensaje\":\"Gracias…\", \"ir a\":\"FlujoInicial\"}\n",
      "            }\n",
      "        }\n",
      "    },\n",
      "    \"Modulo_2\": {\n",
      "        \"Introducción\": {\n",
      "            \"mensaje\": \"Lo estoy llamando de SMARTIA por encargo de Banco Falabella. <NOMBRE>, el motivo de mi llamada es para informarle que al día de hoy usted mantiene una deuda de <MONTO_DEUDA>. El plazo para regularizar esta deuda es hasta el <FECHA>. ¿Está de acuerdo?\",\n",
      "            \"objetivo\": \"Presentarse, entregar información de la deuda y validar la disposición del cliente para realizar el pago\",\n",
      "            \"opciones\": {\n",
      "                \"SI\": {\"ir a\":\"ComprometePago\"},\n",
      "                \"NO\": {\"ir a\":\"PreguntarMotivo\"},\n",
      "                \"Cliente compromete fecha dentro del plazo\": {\"ir a\":\"RegistrarCompromiso\"},\n",
      "                \"Cliente compromete fecha fuera del plazo\": {\"ir a\":\"ExplicarPolíticas\"},\n",
      "            }\n",
      "        },\n",
      "        \"ComprometePago\": {\n",
      "            \"mensaje\": \"Perfecto, dejaré registrado entonces su compromiso de pago para el <FECHA>. Recuerde que el pago se puede hacer de forma presencial en caja banco Falabela y o a través de botón de pago en la pagina web de recsa punto ce ele. ¡Que tenga un excelente día!\",\n",
      "            \"objetivo\": \"Registrar el compromiso de pago y explicar las opciones de pago\",\n",
      "            \"fin\": True\n",
      "        },\n",
      "        \"PreguntarMotivo\": {\n",
      "            \"mensaje\": \"Entiendo que no pueda pagar. ¿Podría indicarme cuál es el motivo?\",\n",
      "            \"objetivo\": \"Identificar el motivo de la negativa y ofrecer alternativa de Plan de Pago\",\n",
      "            \"opciones\": {\n",
      "                \"Respuesta motivo de no pago\": {\"ir a\":\"OfrecerPlan\"}\n",
      "            }\n",
      "        },\n",
      "        \"OfrecerPlan\": {\n",
      "            \"mensaje\": \"Entiendo y pensando en su tranquilidad, Banco falabela, disponibiliza un plan de pago ¿Le gustaría saber más?\",\n",
      "            \"objetivo\": \"Ofrecer un plan de pago para regularizar la deuda\",\n",
      "            \"opciones\": {\n",
      "                \"Acepta\": {\"ir a\":\"ExplicarPlan\"},\n",
      "                \"No acepta\": {\"ir a\":\"AgradecerYFinalizar\"}\n",
      "            }\n",
      "        },\n",
      "        \"ExplicarPlan\": {\n",
      "            \"mensaje\": \"Esta campaña es una excelente alternativa, que le permite regularizar su deuda con un pago inicial del <PORCENTAJE> porciento, que le permitirá regularizar su saldo en <CUOTAS>, con pagos de <MONTO_CUOTAS>. Esta oferta es válida solo hasta <FECHA_LIMITE>. ¿Accede al beneficio hoy?\",\n",
      "            \"objetivo\": \"Explicar el plan de pago y solicitar la aceptación\",\n",
      "            \"opciones\": {\n",
      "                \"Acepta\": {\"ir a\":\"ExplicaActivacionPlan\"},\n",
      "                \"No acepta\": {\"ir a\":\"Finalizar\"}\n",
      "            }\n",
      "        },\n",
      "        \"ExplicaActivacionPlan\": {\n",
      "            \"mensaje\": \"Para activar el PLAN DE PAGO, debe realizar el pagar  pago inicial y luego presentarse en una sucursal de Banco falabela después de 2 días hábiles de haber realizado el pago inicial, con su cédula de identidad vigente y un comprobante de domicilio con una vigencia de 30 días. El pago se puede hacer de forma presencial en la caja banco Falabella y o a través de botón de pago en la pagina web de recsa punto ce ele. Mucha gracias por su tiempo. Que tenga un excelente día.\",\n",
      "            \"objetivo\": \"Explicar los pasos para activar el Plan de Pago\",\n",
      "            \"fin\": True\n",
      "        },\n",
      "        \"AgradecerYFinalizar\": {\n",
      "            \"mensaje\": \"Muchas gracias por su tiempo. Que tenga un excelente día.\",\n",
      "            \"objetivo\": \"Finalizar la conversación amablemente\",\n",
      "            \"fin\": True\n",
      "        },       \n",
      "        \"RegistrarCompromiso\": {\n",
      "            \"mensaje\": \"Perfecto, dejaré registrado entonces su compromiso de pago para el <FECHA>. Recuerde que el pago se puede hacer de forma presencial en caja banco Falabela y o a través de botón de pago en la pagina web de recsa punto ce ele. Que tenga un excelente día.\",\n",
      "            \"objetivo\": \"Registrar el compromiso de pago y explicar las opciones de pago\",\n",
      "            \"fin\": True\n",
      "        },\n",
      "        \"ExplicarPolíticas\": {\n",
      "            \"mensaje\": \"Disculpe, pero las políticas de falabela solo permiten establecer el <FECHA_LIMITE> como fecha máxima de pago. ¿Puede comprometer un pago en este plazo?\",\n",
      "            \"objetivo\": \"Explicar las políticas de pago y solicitar un compromiso de pago\",\n",
      "            \"opciones\": {\n",
      "                \"SI\": {\"ir a\":\"ComprometePago\"},\n",
      "                \"NO\": {\"ir a\":\"PreguntarMotivo\"},\n",
      "                \"Cliente compromete fecha dentro del plazo\": {\"ir a\":\"RegistrarCompromiso\"},\n",
      "                \"Cliente compromete fecha fuera del plazo\": {\"ir a\":\"ExplicarPolíticas\"},\n",
      "            }\n",
      "        },                \n",
      "        \"Finalizar\": {\n",
      "            \"mensaje\": \"Gracias por su atención. Que tenga un buen día.\",\n",
      "            \"objetivo\": \"Finalizar la conversación amablemente\",\n",
      "            \"fin\": True\n",
      "        }\n",
      "    }\n",
      "}\n",
      "\n",
      "</definicion_flujo>\n",
      "\n",
      "# user: inicio_llamada\n",
      "# assistant: Buenos días. Soy su agente virtual de Banco Falabela. ¿Hablo con Matías Pereira?\n",
      "# user: Si quien habla?\n",
      "# assistant: \n",
      "# user: No, no soy Matías Pereira. ¿Puede decirme de dónde es?\n",
      "# assistant: Lo estoy llamando de SMARTIA por encargo de Banco falabela. Por favor, compruebe si está en un lugar donde pueda recibir llamadas. Gracias.\n",
      "# user: Sí, estoy en un lugar donde puedo recibir llamadas. ¿Puede decirme de dónde es?\n",
      "# assistant: Lo estoy llamando de SMARTIA por encargo de Banco falabela. Por favor, compruebe si está en un lugar donde pueda recibir llamadas. Gracias.\n",
      "# user: Sí, estoy en un lugar donde puedo recibir llamadas. ¿Puede decirme de dónde es?\n",
      "# assistant: Lo estoy llamando de SMARTIA por encargo de Banco falabela. Por favor, compruebe si está en un lugar donde pueda recibir llamadas. Gracias.\n",
      "# user: Sí, estoy en un lugar donde puedo recibir llamadas. ¿Puede decirme de dónde es?\n",
      "# assistant: Lo estoy llamando de SMARTIA por encargo de Banco falabela. Por favor, compruebe si está en un lugar donde pueda recibir llamadas. Gracias.\n",
      "# user: Sí, estoy en un lugar donde puedo recibir llamadas. ¿Puede decirme de dónde es?\n",
      "# assistant: Lo estoy llamando de SMARTIA por encargo de Banco falabela. Por favor, compruebe si está en un lugar donde pueda recibir llamadas. Gracias.\n",
      "# user: Sí, estoy en un lugar donde puedo recibir\n"
     ]
    }
   ],
   "source": [
    "input_ids = tokenizer(input_text, return_tensors=\"pt\").to(\"cuda\")\n",
    "print(input_ids)\n",
    "outputs = model.generate(**input_ids, max_length=2048)\n",
    "print(tokenizer.decode(outputs[0]))"
   ]
  },
  {
   "cell_type": "code",
   "execution_count": null,
   "metadata": {},
   "outputs": [],
   "source": []
  },
  {
   "cell_type": "code",
   "execution_count": null,
   "metadata": {},
   "outputs": [],
   "source": []
  }
 ],
 "metadata": {
  "kernelspec": {
   "display_name": "emilio",
   "language": "python",
   "name": "python3"
  },
  "language_info": {
   "codemirror_mode": {
    "name": "ipython",
    "version": 3
   },
   "file_extension": ".py",
   "mimetype": "text/x-python",
   "name": "python",
   "nbconvert_exporter": "python",
   "pygments_lexer": "ipython3",
   "version": "3.10.12"
  }
 },
 "nbformat": 4,
 "nbformat_minor": 2
}
